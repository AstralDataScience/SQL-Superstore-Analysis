{
 "cells": [
  {
   "cell_type": "markdown",
   "id": "b2058af9-b8c3-4395-9e88-17e9f1c67bab",
   "metadata": {},
   "source": [
    "!pip install ipython-sql\n",
    "!pip install sqlalchemy\n",
    "!pip install mysql-connector-python"
   ]
  },
  {
   "cell_type": "code",
   "execution_count": 4,
   "id": "7fa8d393-cc14-4037-9511-d77153c1acf2",
   "metadata": {},
   "outputs": [
    {
     "name": "stdout",
     "output_type": "stream",
     "text": [
      "The sql extension is already loaded. To reload it, use:\n",
      "  %reload_ext sql\n"
     ]
    }
   ],
   "source": [
    "%load_ext sql\n"
   ]
  },
  {
   "cell_type": "code",
   "execution_count": 2,
   "id": "4346e2ae-e80c-4414-9a00-901edc41d3e7",
   "metadata": {},
   "outputs": [
    {
     "name": "stdout",
     "output_type": "stream",
     "text": [
      "Data loaded successfully into SQLite!\n"
     ]
    }
   ],
   "source": [
    "import pandas as pd\n",
    "from sqlalchemy import create_engine\n",
    "\n",
    "# Load CSV into pandas (change to .xlsx if needed)\n",
    "df = pd.read_csv(\"C:\\\\Users\\\\K KASHA\\\\OneDrive - Vidyalankar School of Information Technology\\\\Desktop\\\\SQL Basics\\\\Sample - Superstore.csv\", encoding=\"latin1\")\n",
    "# Connect to SQLite database (creates superstore.db if not exists)\n",
    "engine = create_engine(\"sqlite:///superstore.db\")\n",
    "\n",
    "# Save dataframe into a SQL table\n",
    "df.to_sql(\"superstore\", engine, if_exists=\"replace\", index=False)\n",
    "\n",
    "print(\"Data loaded successfully into SQLite!\")\n"
   ]
  },
  {
   "cell_type": "markdown",
   "id": "eeb8f23e-07a0-4fe1-9372-bd227ada7348",
   "metadata": {},
   "source": [
    "\n",
    "# Project Title : Superstore Sales Analysis using SQL"
   ]
  },
  {
   "cell_type": "markdown",
   "id": "56d24b2a-0b90-4434-b1e1-d8c92f02c9bd",
   "metadata": {},
   "source": [
    "## Introduction\r\n",
    "This project analyzes the Superstore dataset using SQL queries.  \r\n",
    "The dataset contains sales, profit, and category-wise details of order\n",
    "s."
   ]
  },
  {
   "cell_type": "markdown",
   "id": "5466ba09-8b56-4e9a-b229-c57c90cb2055",
   "metadata": {},
   "source": [
    "## Dataset Overview\r\n",
    "The dataset includes the following columns:\r\n",
    "- Order ID\r\n",
    "- Customer Name\r\n",
    "- Category\r\n",
    "- Sub-Category\r\n",
    "- Sales\r\n",
    "- Profit\r\n",
    "- Quantity\r\n",
    "- Region"
   ]
  },
  {
   "cell_type": "markdown",
   "id": "aa675a9f-65d5-49e4-b0d3-117d44f3a909",
   "metadata": {},
   "source": [
    "# 🎯 Data Retrieval Basics"
   ]
  },
  {
   "cell_type": "markdown",
   "id": "cd08f0e8-d775-4933-8a70-21eb738cc427",
   "metadata": {},
   "source": [
    "### 1. \"Show Me Everything!\" – Retrieving All Data\n",
    "Explanation:\n",
    "#### This fetches all columns and all rows from the table. It’s the simplest way to view your entire dataset."
   ]
  },
  {
   "cell_type": "markdown",
   "id": "f8b14927-c2a7-42f2-b256-c56b5d10e1c8",
   "metadata": {},
   "source": [
    "### Query"
   ]
  },
  {
   "cell_type": "code",
   "execution_count": 14,
   "id": "8591eb11-848f-4227-9ce4-f7505c79e693",
   "metadata": {},
   "outputs": [
    {
     "name": "stdout",
     "output_type": "stream",
     "text": [
      "      Row ID        Order ID  Order Date   Ship Date       Ship Mode  \\\n",
      "0          1  CA-2016-152156  11-08-2016  11-11-2016    Second Class   \n",
      "1          2  CA-2016-152156  11-08-2016  11-11-2016    Second Class   \n",
      "2          3  CA-2016-138688  06-12-2016   6/16/2016    Second Class   \n",
      "3          4  US-2015-108966  10-11-2015  10/18/2015  Standard Class   \n",
      "4          5  US-2015-108966  10-11-2015  10/18/2015  Standard Class   \n",
      "...      ...             ...         ...         ...             ...   \n",
      "9989    9990  CA-2014-110422   1/21/2014   1/23/2014    Second Class   \n",
      "9990    9991  CA-2017-121258   2/26/2017  03-03-2017  Standard Class   \n",
      "9991    9992  CA-2017-121258   2/26/2017  03-03-2017  Standard Class   \n",
      "9992    9993  CA-2017-121258   2/26/2017  03-03-2017  Standard Class   \n",
      "9993    9994  CA-2017-119914  05-04-2017  05-09-2017    Second Class   \n",
      "\n",
      "     Customer ID     Customer Name    Segment        Country             City  \\\n",
      "0       CG-12520       Claire Gute   Consumer  United States        Henderson   \n",
      "1       CG-12520       Claire Gute   Consumer  United States        Henderson   \n",
      "2       DV-13045   Darrin Van Huff  Corporate  United States      Los Angeles   \n",
      "3       SO-20335    Sean O'Donnell   Consumer  United States  Fort Lauderdale   \n",
      "4       SO-20335    Sean O'Donnell   Consumer  United States  Fort Lauderdale   \n",
      "...          ...               ...        ...            ...              ...   \n",
      "9989    TB-21400  Tom Boeckenhauer   Consumer  United States            Miami   \n",
      "9990    DB-13060       Dave Brooks   Consumer  United States       Costa Mesa   \n",
      "9991    DB-13060       Dave Brooks   Consumer  United States       Costa Mesa   \n",
      "9992    DB-13060       Dave Brooks   Consumer  United States       Costa Mesa   \n",
      "9993    CC-12220      Chris Cortes   Consumer  United States      Westminster   \n",
      "\n",
      "      ... Postal Code  Region       Product ID         Category Sub-Category  \\\n",
      "0     ...       42420   South  FUR-BO-10001798        Furniture    Bookcases   \n",
      "1     ...       42420   South  FUR-CH-10000454        Furniture       Chairs   \n",
      "2     ...       90036    West  OFF-LA-10000240  Office Supplies       Labels   \n",
      "3     ...       33311   South  FUR-TA-10000577        Furniture       Tables   \n",
      "4     ...       33311   South  OFF-ST-10000760  Office Supplies      Storage   \n",
      "...   ...         ...     ...              ...              ...          ...   \n",
      "9989  ...       33180   South  FUR-FU-10001889        Furniture  Furnishings   \n",
      "9990  ...       92627    West  FUR-FU-10000747        Furniture  Furnishings   \n",
      "9991  ...       92627    West  TEC-PH-10003645       Technology       Phones   \n",
      "9992  ...       92627    West  OFF-PA-10004041  Office Supplies        Paper   \n",
      "9993  ...       92683    West  OFF-AP-10002684  Office Supplies   Appliances   \n",
      "\n",
      "                                           Product Name     Sales  Quantity  \\\n",
      "0                     Bush Somerset Collection Bookcase  261.9600         2   \n",
      "1     Hon Deluxe Fabric Upholstered Stacking Chairs,...  731.9400         3   \n",
      "2     Self-Adhesive Address Labels for Typewriters b...   14.6200         2   \n",
      "3         Bretford CR4500 Series Slim Rectangular Table  957.5775         5   \n",
      "4                        Eldon Fold 'N Roll Cart System   22.3680         2   \n",
      "...                                                 ...       ...       ...   \n",
      "9989                             Ultra Door Pull Handle   25.2480         3   \n",
      "9990  Tenex B1-RE Series Chair Mats for Low Pile Car...   91.9600         2   \n",
      "9991                              Aastra 57i VoIP phone  258.5760         2   \n",
      "9992  It's Hot Message Books with Stickers, 2 3/4\" x 5\"   29.6000         4   \n",
      "9993  Acco 7-Outlet Masterpiece Power Center, Wihtou...  243.1600         2   \n",
      "\n",
      "      Discount    Profit  \n",
      "0         0.00   41.9136  \n",
      "1         0.00  219.5820  \n",
      "2         0.00    6.8714  \n",
      "3         0.45 -383.0310  \n",
      "4         0.20    2.5164  \n",
      "...        ...       ...  \n",
      "9989      0.20    4.1028  \n",
      "9990      0.00   15.6332  \n",
      "9991      0.20   19.3932  \n",
      "9992      0.00   13.3200  \n",
      "9993      0.00   72.9480  \n",
      "\n",
      "[9994 rows x 21 columns]\n"
     ]
    }
   ],
   "source": [
    "df_unique = pd.read_sql_query('SELECT * FROM superstore;', engine)\n",
    "print(df_unique)"
   ]
  },
  {
   "cell_type": "markdown",
   "id": "4633edc1-7f25-4942-a138-47532d32faae",
   "metadata": {},
   "source": [
    "## 2.\"Just the Essentials\" – Selecting Specific Columns\n",
    "Explanation:\n",
    "#### Here, instead of grabbing the whole dataset, we focus on only three important columns: order ID, customer name, and sales."
   ]
  },
  {
   "cell_type": "markdown",
   "id": "cc9fce78-9889-45da-9b73-599d0f8d3418",
   "metadata": {},
   "source": [
    "## Query"
   ]
  },
  {
   "cell_type": "code",
   "execution_count": 13,
   "id": "374c61dd-c94a-44ac-90fb-737ccbe0bacc",
   "metadata": {},
   "outputs": [
    {
     "name": "stdout",
     "output_type": "stream",
     "text": [
      "            Order ID     Customer Name     Sales\n",
      "0     CA-2016-152156       Claire Gute  261.9600\n",
      "1     CA-2016-152156       Claire Gute  731.9400\n",
      "2     CA-2016-138688   Darrin Van Huff   14.6200\n",
      "3     US-2015-108966    Sean O'Donnell  957.5775\n",
      "4     US-2015-108966    Sean O'Donnell   22.3680\n",
      "...              ...               ...       ...\n",
      "9989  CA-2014-110422  Tom Boeckenhauer   25.2480\n",
      "9990  CA-2017-121258       Dave Brooks   91.9600\n",
      "9991  CA-2017-121258       Dave Brooks  258.5760\n",
      "9992  CA-2017-121258       Dave Brooks   29.6000\n",
      "9993  CA-2017-119914      Chris Cortes  243.1600\n",
      "\n",
      "[9994 rows x 3 columns]\n"
     ]
    }
   ],
   "source": [
    "df_unique = pd.read_sql_query('SELECT \"Order ID\" ,\"Customer Name\" , \"Sales\" FROM superstore;', engine)\n",
    "print(df_unique)"
   ]
  },
  {
   "cell_type": "markdown",
   "id": "94cccf2e-49ee-4aea-96b2-fc057ea10386",
   "metadata": {},
   "source": [
    "## 3.\"Quick Peek\" – First 10 Rows\n",
    "Explanation:\n",
    "#### The TOP 10 keyword gives only the first 10 records — useful for previewing data without overloading your output."
   ]
  },
  {
   "cell_type": "markdown",
   "id": "b2657b6d-e1ce-4d3c-8938-a2ec85c5520c",
   "metadata": {},
   "source": [
    "### Query"
   ]
  },
  {
   "cell_type": "code",
   "execution_count": 10,
   "id": "f0de134d-f8c5-4972-b714-564a13a14bb9",
   "metadata": {},
   "outputs": [
    {
     "name": "stdout",
     "output_type": "stream",
     "text": [
      "   Row ID        Order ID  Order Date   Ship Date       Ship Mode Customer ID  \\\n",
      "0       1  CA-2016-152156  11-08-2016  11-11-2016    Second Class    CG-12520   \n",
      "1       2  CA-2016-152156  11-08-2016  11-11-2016    Second Class    CG-12520   \n",
      "2       3  CA-2016-138688  06-12-2016   6/16/2016    Second Class    DV-13045   \n",
      "3       4  US-2015-108966  10-11-2015  10/18/2015  Standard Class    SO-20335   \n",
      "4       5  US-2015-108966  10-11-2015  10/18/2015  Standard Class    SO-20335   \n",
      "5       6  CA-2014-115812  06-09-2014   6/14/2014  Standard Class    BH-11710   \n",
      "6       7  CA-2014-115812  06-09-2014   6/14/2014  Standard Class    BH-11710   \n",
      "7       8  CA-2014-115812  06-09-2014   6/14/2014  Standard Class    BH-11710   \n",
      "8       9  CA-2014-115812  06-09-2014   6/14/2014  Standard Class    BH-11710   \n",
      "9      10  CA-2014-115812  06-09-2014   6/14/2014  Standard Class    BH-11710   \n",
      "\n",
      "     Customer Name    Segment        Country             City  ...  \\\n",
      "0      Claire Gute   Consumer  United States        Henderson  ...   \n",
      "1      Claire Gute   Consumer  United States        Henderson  ...   \n",
      "2  Darrin Van Huff  Corporate  United States      Los Angeles  ...   \n",
      "3   Sean O'Donnell   Consumer  United States  Fort Lauderdale  ...   \n",
      "4   Sean O'Donnell   Consumer  United States  Fort Lauderdale  ...   \n",
      "5  Brosina Hoffman   Consumer  United States      Los Angeles  ...   \n",
      "6  Brosina Hoffman   Consumer  United States      Los Angeles  ...   \n",
      "7  Brosina Hoffman   Consumer  United States      Los Angeles  ...   \n",
      "8  Brosina Hoffman   Consumer  United States      Los Angeles  ...   \n",
      "9  Brosina Hoffman   Consumer  United States      Los Angeles  ...   \n",
      "\n",
      "  Postal Code  Region       Product ID         Category Sub-Category  \\\n",
      "0       42420   South  FUR-BO-10001798        Furniture    Bookcases   \n",
      "1       42420   South  FUR-CH-10000454        Furniture       Chairs   \n",
      "2       90036    West  OFF-LA-10000240  Office Supplies       Labels   \n",
      "3       33311   South  FUR-TA-10000577        Furniture       Tables   \n",
      "4       33311   South  OFF-ST-10000760  Office Supplies      Storage   \n",
      "5       90032    West  FUR-FU-10001487        Furniture  Furnishings   \n",
      "6       90032    West  OFF-AR-10002833  Office Supplies          Art   \n",
      "7       90032    West  TEC-PH-10002275       Technology       Phones   \n",
      "8       90032    West  OFF-BI-10003910  Office Supplies      Binders   \n",
      "9       90032    West  OFF-AP-10002892  Office Supplies   Appliances   \n",
      "\n",
      "                                        Product Name     Sales  Quantity  \\\n",
      "0                  Bush Somerset Collection Bookcase  261.9600         2   \n",
      "1  Hon Deluxe Fabric Upholstered Stacking Chairs,...  731.9400         3   \n",
      "2  Self-Adhesive Address Labels for Typewriters b...   14.6200         2   \n",
      "3      Bretford CR4500 Series Slim Rectangular Table  957.5775         5   \n",
      "4                     Eldon Fold 'N Roll Cart System   22.3680         2   \n",
      "5  Eldon Expressions Wood and Plastic Desk Access...   48.8600         7   \n",
      "6                                         Newell 322    7.2800         4   \n",
      "7                     Mitel 5320 IP Phone VoIP phone  907.1520         6   \n",
      "8  DXL Angle-View Binders with Locking Rings by S...   18.5040         3   \n",
      "9                   Belkin F5C206VTEL 6 Outlet Surge  114.9000         5   \n",
      "\n",
      "   Discount    Profit  \n",
      "0      0.00   41.9136  \n",
      "1      0.00  219.5820  \n",
      "2      0.00    6.8714  \n",
      "3      0.45 -383.0310  \n",
      "4      0.20    2.5164  \n",
      "5      0.00   14.1694  \n",
      "6      0.00    1.9656  \n",
      "7      0.20   90.7152  \n",
      "8      0.20    5.7825  \n",
      "9      0.00   34.4700  \n",
      "\n",
      "[10 rows x 21 columns]\n"
     ]
    }
   ],
   "source": [
    "df_unique = pd.read_sql_query(\"SELECT * FROM superstore LIMIT 10;\", engine)\n",
    "print(df_unique)"
   ]
  },
  {
   "cell_type": "markdown",
   "id": "0e6b6c66-7c36-4ec9-bc7f-85a02d0a6c39",
   "metadata": {},
   "source": [
    "## 4. “Furniture Only, Please” – Filtering by Category\n",
    "Explanation:\n",
    "#### This retrieves only those rows where the category is Furniture."
   ]
  },
  {
   "cell_type": "markdown",
   "id": "bc0f08a4-919d-44dd-a3f7-55cd5af289e7",
   "metadata": {},
   "source": [
    "### Query"
   ]
  },
  {
   "cell_type": "code",
   "execution_count": 8,
   "id": "7fcdbb55-8745-40c1-bef0-6c9bf5a44056",
   "metadata": {},
   "outputs": [
    {
     "name": "stdout",
     "output_type": "stream",
     "text": [
      "      Row ID        Order ID  Order Date   Ship Date       Ship Mode  \\\n",
      "0          1  CA-2016-152156  11-08-2016  11-11-2016    Second Class   \n",
      "1          2  CA-2016-152156  11-08-2016  11-11-2016    Second Class   \n",
      "2          4  US-2015-108966  10-11-2015  10/18/2015  Standard Class   \n",
      "3          6  CA-2014-115812  06-09-2014   6/14/2014  Standard Class   \n",
      "4         11  CA-2014-115812  06-09-2014   6/14/2014  Standard Class   \n",
      "...      ...             ...         ...         ...             ...   \n",
      "2116    9963  CA-2015-168088   3/19/2015   3/22/2015     First Class   \n",
      "2117    9965  CA-2016-146374  12-05-2016  12-10-2016    Second Class   \n",
      "2118    9981  US-2015-151435  09-06-2015  09-09-2015    Second Class   \n",
      "2119    9990  CA-2014-110422   1/21/2014   1/23/2014    Second Class   \n",
      "2120    9991  CA-2017-121258   2/26/2017  03-03-2017  Standard Class   \n",
      "\n",
      "     Customer ID     Customer Name      Segment        Country  \\\n",
      "0       CG-12520       Claire Gute     Consumer  United States   \n",
      "1       CG-12520       Claire Gute     Consumer  United States   \n",
      "2       SO-20335    Sean O'Donnell     Consumer  United States   \n",
      "3       BH-11710   Brosina Hoffman     Consumer  United States   \n",
      "4       BH-11710   Brosina Hoffman     Consumer  United States   \n",
      "...          ...               ...          ...            ...   \n",
      "2116    CM-12655  Corinna Mitchell  Home Office  United States   \n",
      "2117    HE-14800      Harold Engle    Corporate  United States   \n",
      "2118    SW-20455       Shaun Weien     Consumer  United States   \n",
      "2119    TB-21400  Tom Boeckenhauer     Consumer  United States   \n",
      "2120    DB-13060       Dave Brooks     Consumer  United States   \n",
      "\n",
      "                 City  ... Postal Code   Region       Product ID   Category  \\\n",
      "0           Henderson  ...       42420    South  FUR-BO-10001798  Furniture   \n",
      "1           Henderson  ...       42420    South  FUR-CH-10000454  Furniture   \n",
      "2     Fort Lauderdale  ...       33311    South  FUR-TA-10000577  Furniture   \n",
      "3         Los Angeles  ...       90032     West  FUR-FU-10001487  Furniture   \n",
      "4         Los Angeles  ...       90032     West  FUR-TA-10001539  Furniture   \n",
      "...               ...  ...         ...      ...              ...        ...   \n",
      "2116          Houston  ...       77041  Central  FUR-BO-10004218  Furniture   \n",
      "2117           Newark  ...       19711     East  FUR-FU-10002671  Furniture   \n",
      "2118        Lafayette  ...       70506    South  FUR-TA-10001039  Furniture   \n",
      "2119            Miami  ...       33180    South  FUR-FU-10001889  Furniture   \n",
      "2120       Costa Mesa  ...       92627     West  FUR-FU-10000747  Furniture   \n",
      "\n",
      "     Sub-Category                                       Product Name  \\\n",
      "0       Bookcases                  Bush Somerset Collection Bookcase   \n",
      "1          Chairs  Hon Deluxe Fabric Upholstered Stacking Chairs,...   \n",
      "2          Tables      Bretford CR4500 Series Slim Rectangular Table   \n",
      "3     Furnishings  Eldon Expressions Wood and Plastic Desk Access...   \n",
      "4          Tables           Chromcraft Rectangular Conference Tables   \n",
      "...           ...                                                ...   \n",
      "2116    Bookcases  Bush Heritage Pine Collection 5-Shelf Bookcase...   \n",
      "2117  Furnishings  Electrix 20W Halogen Replacement Bulb for Zoom...   \n",
      "2118       Tables                         KI Adjustable-Height Table   \n",
      "2119  Furnishings                             Ultra Door Pull Handle   \n",
      "2120  Furnishings  Tenex B1-RE Series Chair Mats for Low Pile Car...   \n",
      "\n",
      "          Sales  Quantity  Discount    Profit  \n",
      "0      261.9600         2      0.00   41.9136  \n",
      "1      731.9400         3      0.00  219.5820  \n",
      "2      957.5775         5      0.45 -383.0310  \n",
      "3       48.8600         7      0.00   14.1694  \n",
      "4     1706.1840         9      0.20   85.3092  \n",
      "...         ...       ...       ...       ...  \n",
      "2116   383.4656         4      0.32  -67.6704  \n",
      "2117    13.4000         1      0.00    6.4320  \n",
      "2118    85.9800         1      0.00   22.3548  \n",
      "2119    25.2480         3      0.20    4.1028  \n",
      "2120    91.9600         2      0.00   15.6332  \n",
      "\n",
      "[2121 rows x 21 columns]\n"
     ]
    }
   ],
   "source": [
    "df_unique = pd.read_sql_query(\"SELECT * FROM superstore WHERE Category = 'Furniture';\", engine)\n",
    "print(df_unique)"
   ]
  },
  {
   "cell_type": "markdown",
   "id": "ead97415-2c85-43ce-b0d7-7c720215d150",
   "metadata": {},
   "source": [
    "## 5. “Heading West” – Region-Specific Orders\n",
    "Explanation:\n",
    "#### Focuses only on records where the region is West. Great for regional sales analysis."
   ]
  },
  {
   "cell_type": "markdown",
   "id": "c760fc3f-b7e0-4a20-9c69-7a52da8d1855",
   "metadata": {},
   "source": [
    "### Query"
   ]
  },
  {
   "cell_type": "code",
   "execution_count": 15,
   "id": "1dd600a1-635c-42bf-b23f-f1e9962541d4",
   "metadata": {},
   "outputs": [
    {
     "name": "stdout",
     "output_type": "stream",
     "text": [
      "      Row ID        Order ID  Order Date   Ship Date       Ship Mode  \\\n",
      "0          3  CA-2016-138688  06-12-2016   6/16/2016    Second Class   \n",
      "1          6  CA-2014-115812  06-09-2014   6/14/2014  Standard Class   \n",
      "2          7  CA-2014-115812  06-09-2014   6/14/2014  Standard Class   \n",
      "3          8  CA-2014-115812  06-09-2014   6/14/2014  Standard Class   \n",
      "4          9  CA-2014-115812  06-09-2014   6/14/2014  Standard Class   \n",
      "...      ...             ...         ...         ...             ...   \n",
      "3198    9987  CA-2016-125794   9/29/2016  10-03-2016  Standard Class   \n",
      "3199    9991  CA-2017-121258   2/26/2017  03-03-2017  Standard Class   \n",
      "3200    9992  CA-2017-121258   2/26/2017  03-03-2017  Standard Class   \n",
      "3201    9993  CA-2017-121258   2/26/2017  03-03-2017  Standard Class   \n",
      "3202    9994  CA-2017-119914  05-04-2017  05-09-2017    Second Class   \n",
      "\n",
      "     Customer ID    Customer Name    Segment        Country         City  ...  \\\n",
      "0       DV-13045  Darrin Van Huff  Corporate  United States  Los Angeles  ...   \n",
      "1       BH-11710  Brosina Hoffman   Consumer  United States  Los Angeles  ...   \n",
      "2       BH-11710  Brosina Hoffman   Consumer  United States  Los Angeles  ...   \n",
      "3       BH-11710  Brosina Hoffman   Consumer  United States  Los Angeles  ...   \n",
      "4       BH-11710  Brosina Hoffman   Consumer  United States  Los Angeles  ...   \n",
      "...          ...              ...        ...            ...          ...  ...   \n",
      "3198    ML-17410     Maris LaWare   Consumer  United States  Los Angeles  ...   \n",
      "3199    DB-13060      Dave Brooks   Consumer  United States   Costa Mesa  ...   \n",
      "3200    DB-13060      Dave Brooks   Consumer  United States   Costa Mesa  ...   \n",
      "3201    DB-13060      Dave Brooks   Consumer  United States   Costa Mesa  ...   \n",
      "3202    CC-12220     Chris Cortes   Consumer  United States  Westminster  ...   \n",
      "\n",
      "     Postal Code  Region       Product ID         Category Sub-Category  \\\n",
      "0          90036    West  OFF-LA-10000240  Office Supplies       Labels   \n",
      "1          90032    West  FUR-FU-10001487        Furniture  Furnishings   \n",
      "2          90032    West  OFF-AR-10002833  Office Supplies          Art   \n",
      "3          90032    West  TEC-PH-10002275       Technology       Phones   \n",
      "4          90032    West  OFF-BI-10003910  Office Supplies      Binders   \n",
      "...          ...     ...              ...              ...          ...   \n",
      "3198       90008    West  TEC-AC-10003399       Technology  Accessories   \n",
      "3199       92627    West  FUR-FU-10000747        Furniture  Furnishings   \n",
      "3200       92627    West  TEC-PH-10003645       Technology       Phones   \n",
      "3201       92627    West  OFF-PA-10004041  Office Supplies        Paper   \n",
      "3202       92683    West  OFF-AP-10002684  Office Supplies   Appliances   \n",
      "\n",
      "                                           Product Name    Sales  Quantity  \\\n",
      "0     Self-Adhesive Address Labels for Typewriters b...   14.620         2   \n",
      "1     Eldon Expressions Wood and Plastic Desk Access...   48.860         7   \n",
      "2                                            Newell 322    7.280         4   \n",
      "3                        Mitel 5320 IP Phone VoIP phone  907.152         6   \n",
      "4     DXL Angle-View Binders with Locking Rings by S...   18.504         3   \n",
      "...                                                 ...      ...       ...   \n",
      "3198  Memorex Mini Travel Drive 64 GB USB 2.0 Flash ...   36.240         1   \n",
      "3199  Tenex B1-RE Series Chair Mats for Low Pile Car...   91.960         2   \n",
      "3200                              Aastra 57i VoIP phone  258.576         2   \n",
      "3201  It's Hot Message Books with Stickers, 2 3/4\" x 5\"   29.600         4   \n",
      "3202  Acco 7-Outlet Masterpiece Power Center, Wihtou...  243.160         2   \n",
      "\n",
      "      Discount   Profit  \n",
      "0          0.0   6.8714  \n",
      "1          0.0  14.1694  \n",
      "2          0.0   1.9656  \n",
      "3          0.2  90.7152  \n",
      "4          0.2   5.7825  \n",
      "...        ...      ...  \n",
      "3198       0.0  15.2208  \n",
      "3199       0.0  15.6332  \n",
      "3200       0.2  19.3932  \n",
      "3201       0.0  13.3200  \n",
      "3202       0.0  72.9480  \n",
      "\n",
      "[3203 rows x 21 columns]\n"
     ]
    }
   ],
   "source": [
    "df_unique = pd.read_sql_query(\"SELECT * FROM superstore WHERE Region = 'West';\", engine)\n",
    "print(df_unique)"
   ]
  },
  {
   "cell_type": "markdown",
   "id": "d222b6f9-9b23-4913-bc43-9786b6dee7fb",
   "metadata": {},
   "source": [
    "## 6.“The 2018 Club” – Orders by Year\n",
    "Explanation:\n",
    "#### Filters records to show only those placed in 2018 using the LIKE '2018%' function."
   ]
  },
  {
   "cell_type": "markdown",
   "id": "ee90e7e9-cb68-4944-ac2d-efed9e5ec2ef",
   "metadata": {},
   "source": [
    "### Query"
   ]
  },
  {
   "cell_type": "code",
   "execution_count": 25,
   "id": "747a0c4c-10d7-4237-9574-8bf472e03a99",
   "metadata": {},
   "outputs": [
    {
     "name": "stdout",
     "output_type": "stream",
     "text": [
      "Empty DataFrame\n",
      "Columns: [Row ID, Order ID, Order Date, Ship Date, Ship Mode, Customer ID, Customer Name, Segment, Country, City, State, Postal Code, Region, Product ID, Category, Sub-Category, Product Name, Sales, Quantity, Discount, Profit]\n",
      "Index: []\n",
      "\n",
      "[0 rows x 21 columns]\n"
     ]
    }
   ],
   "source": [
    "query = \"SELECT * FROM superstore  WHERE (LENGTH(\\\"Order Date\\\") = 10 AND SUBSTR(\\\"Order Date\\\", 7, 4) = '2018') OR (LENGTH(\\\"Order Date\\\") = 10 AND SUBSTR(\\\"Order Date\\\", 1, 4) = '2018');\"\n",
    "df_unique = pd.read_sql_query(query, engine)\n",
    "print(df_unique)"
   ]
  },
  {
   "cell_type": "markdown",
   "id": "ab14560b-2b10-4d6d-933f-07fa02dd01c6",
   "metadata": {},
   "source": [
    "## 7. “Big Spenders” – High-Value Sales\n",
    "Explanation:\n",
    "#### Pulls out records where sales exceeded 500, highlighting major transactions."
   ]
  },
  {
   "cell_type": "markdown",
   "id": "a962f4f6-685b-4a82-bc5c-d9031e89512e",
   "metadata": {},
   "source": [
    "### Query"
   ]
  },
  {
   "cell_type": "code",
   "execution_count": 20,
   "id": "f09e2962-c8a7-42e5-aa5d-1649ebc954fe",
   "metadata": {},
   "outputs": [
    {
     "name": "stdout",
     "output_type": "stream",
     "text": [
      "      Row ID        Order ID  Order Date   Ship Date       Ship Mode  \\\n",
      "0          2  CA-2016-152156  11-08-2016  11-11-2016    Second Class   \n",
      "1          4  US-2015-108966  10-11-2015  10/18/2015  Standard Class   \n",
      "2          8  CA-2014-115812  06-09-2014   6/14/2014  Standard Class   \n",
      "3         11  CA-2014-115812  06-09-2014   6/14/2014  Standard Class   \n",
      "4         12  CA-2014-115812  06-09-2014   6/14/2014  Standard Class   \n",
      "...      ...             ...         ...         ...             ...   \n",
      "1157    9932  CA-2015-104948  11/13/2015  11/17/2015  Standard Class   \n",
      "1158    9943  CA-2014-143371  12/28/2014  01-03-2015  Standard Class   \n",
      "1159    9948  CA-2017-121559  06-01-2017  06-03-2017    Second Class   \n",
      "1160    9949  CA-2017-121559  06-01-2017  06-03-2017    Second Class   \n",
      "1161    9969  CA-2017-153871  12-11-2017  12/17/2017  Standard Class   \n",
      "\n",
      "     Customer ID    Customer Name    Segment        Country             City  \\\n",
      "0       CG-12520      Claire Gute   Consumer  United States        Henderson   \n",
      "1       SO-20335   Sean O'Donnell   Consumer  United States  Fort Lauderdale   \n",
      "2       BH-11710  Brosina Hoffman   Consumer  United States      Los Angeles   \n",
      "3       BH-11710  Brosina Hoffman   Consumer  United States      Los Angeles   \n",
      "4       BH-11710  Brosina Hoffman   Consumer  United States      Los Angeles   \n",
      "...          ...              ...        ...            ...              ...   \n",
      "1157    KH-16510    Keith Herrera   Consumer  United States   San Bernardino   \n",
      "1158    MD-17350    Maribeth Dona   Consumer  United States          Anaheim   \n",
      "1159    HW-14935  Helen Wasserman  Corporate  United States     Indianapolis   \n",
      "1160    HW-14935  Helen Wasserman  Corporate  United States     Indianapolis   \n",
      "1161    RB-19435  Richard Bierner   Consumer  United States       Plainfield   \n",
      "\n",
      "      ... Postal Code   Region       Product ID         Category Sub-Category  \\\n",
      "0     ...       42420    South  FUR-CH-10000454        Furniture       Chairs   \n",
      "1     ...       33311    South  FUR-TA-10000577        Furniture       Tables   \n",
      "2     ...       90032     West  TEC-PH-10002275       Technology       Phones   \n",
      "3     ...       90032     West  FUR-TA-10001539        Furniture       Tables   \n",
      "4     ...       90032     West  TEC-PH-10002033       Technology       Phones   \n",
      "...   ...         ...      ...              ...              ...          ...   \n",
      "1157  ...       92404     West  FUR-BO-10004357        Furniture    Bookcases   \n",
      "1158  ...       92804     West  OFF-ST-10001128  Office Supplies      Storage   \n",
      "1159  ...       46203  Central  FUR-CH-10003746        Furniture       Chairs   \n",
      "1160  ...       46203  Central  OFF-AP-10002945  Office Supplies   Appliances   \n",
      "1161  ...        7060     East  OFF-BI-10004600  Office Supplies      Binders   \n",
      "\n",
      "                                           Product Name      Sales  Quantity  \\\n",
      "0     Hon Deluxe Fabric Upholstered Stacking Chairs,...   731.9400         3   \n",
      "1         Bretford CR4500 Series Slim Rectangular Table   957.5775         5   \n",
      "2                        Mitel 5320 IP Phone VoIP phone   907.1520         6   \n",
      "3              Chromcraft Rectangular Conference Tables  1706.1840         9   \n",
      "4         Konftel 250 Conference phone - Charcoal black   911.4240         4   \n",
      "...                                                 ...        ...       ...   \n",
      "1157     O'Sullivan Living Dimensions 3-Shelf Bookcases   683.3320         4   \n",
      "1158        Carina Mini System Audio Rack, Model AR050B   998.8200         9   \n",
      "1159  Hon 4070 Series Pagoda Round Back Stacking Chairs  1925.8800         6   \n",
      "1160  Honeywell Enviracaire Portable HEPA Air Cleane...  2405.2000         8   \n",
      "1161          Ibico Ibimaster 300 Manual Binding System   735.9800         2   \n",
      "\n",
      "      Discount    Profit  \n",
      "0         0.00  219.5820  \n",
      "1         0.45 -383.0310  \n",
      "2         0.20   90.7152  \n",
      "3         0.20   85.3092  \n",
      "4         0.20   68.3568  \n",
      "...        ...       ...  \n",
      "1157      0.15  -40.1960  \n",
      "1158      0.00   29.9646  \n",
      "1159      0.00  539.2464  \n",
      "1160      0.00  793.7160  \n",
      "1161      0.00  331.1910  \n",
      "\n",
      "[1162 rows x 21 columns]\n"
     ]
    }
   ],
   "source": [
    "df_unique = pd.read_sql_query(\"SELECT * FROM superstore WHERE Sales > 500;\",engine)\n",
    "print(df_unique)"
   ]
  },
  {
   "cell_type": "markdown",
   "id": "b19a2674-3f9c-48a1-bd10-9d9a1be3c1d2",
   "metadata": {},
   "source": [
    "## 8. “What’s in the Region?” – Unique Region Values\n",
    "Explanation:\n",
    "#### DISTINCT helps list all unique region names without duplicates."
   ]
  },
  {
   "cell_type": "markdown",
   "id": "282ecdd8-8bd0-4546-aa70-874ea5b9b28c",
   "metadata": {},
   "source": [
    "### Query"
   ]
  },
  {
   "cell_type": "code",
   "execution_count": 27,
   "id": "4aac9653-f00c-441f-80f1-141d87097265",
   "metadata": {},
   "outputs": [
    {
     "name": "stdout",
     "output_type": "stream",
     "text": [
      "    Region\n",
      "0    South\n",
      "1     West\n",
      "2  Central\n",
      "3     East\n"
     ]
    }
   ],
   "source": [
    "df_unique = pd.read_sql_query('SELECT DISTINCT \"Region\" AS Region FROM superstore;', engine)\n",
    "print(df_unique)"
   ]
  },
  {
   "cell_type": "markdown",
   "id": "0fdb4891-34e9-4c85-85f0-987ab58dafff",
   "metadata": {},
   "source": [
    "## 9. “Small Orders Matter Too” – Low Quantity Orders\n",
    "Explanation:\n",
    "#### Shows all orders where customers purchased fewer than 3 items."
   ]
  },
  {
   "cell_type": "markdown",
   "id": "aecf3738-699f-427f-8435-bb790415b278",
   "metadata": {},
   "source": [
    "### Query"
   ]
  },
  {
   "cell_type": "code",
   "execution_count": 28,
   "id": "0392f66d-fd1d-4c20-9363-15743614ef39",
   "metadata": {},
   "outputs": [
    {
     "name": "stdout",
     "output_type": "stream",
     "text": [
      "      Row ID        Order ID  Order Date   Ship Date       Ship Mode  \\\n",
      "0          4  US-2015-108966  10-11-2015  10/18/2015  Standard Class   \n",
      "1          6  CA-2014-115812  06-09-2014   6/14/2014  Standard Class   \n",
      "2          7  CA-2014-115812  06-09-2014   6/14/2014  Standard Class   \n",
      "3          8  CA-2014-115812  06-09-2014   6/14/2014  Standard Class   \n",
      "4         10  CA-2014-115812  06-09-2014   6/14/2014  Standard Class   \n",
      "...      ...             ...         ...         ...             ...   \n",
      "4279    9983  US-2016-157728   9/22/2016   9/28/2016  Standard Class   \n",
      "4280    9985  CA-2015-100251   5/17/2015   5/23/2015  Standard Class   \n",
      "4281    9986  CA-2015-100251   5/17/2015   5/23/2015  Standard Class   \n",
      "4282    9989  CA-2017-163629  11/17/2017  11/21/2017  Standard Class   \n",
      "4283    9993  CA-2017-121258   2/26/2017  03-03-2017  Standard Class   \n",
      "\n",
      "     Customer ID     Customer Name    Segment        Country             City  \\\n",
      "0       SO-20335    Sean O'Donnell   Consumer  United States  Fort Lauderdale   \n",
      "1       BH-11710   Brosina Hoffman   Consumer  United States      Los Angeles   \n",
      "2       BH-11710   Brosina Hoffman   Consumer  United States      Los Angeles   \n",
      "3       BH-11710   Brosina Hoffman   Consumer  United States      Los Angeles   \n",
      "4       BH-11710   Brosina Hoffman   Consumer  United States      Los Angeles   \n",
      "...          ...               ...        ...            ...              ...   \n",
      "4279    RC-19960        Ryan Crowe   Consumer  United States     Grand Rapids   \n",
      "4280    DV-13465  Dianna Vittorini   Consumer  United States       Long Beach   \n",
      "4281    DV-13465  Dianna Vittorini   Consumer  United States       Long Beach   \n",
      "4282    RA-19885      Ruben Ausman  Corporate  United States           Athens   \n",
      "4283    DB-13060       Dave Brooks   Consumer  United States       Costa Mesa   \n",
      "\n",
      "      ... Postal Code   Region       Product ID         Category Sub-Category  \\\n",
      "0     ...       33311    South  FUR-TA-10000577        Furniture       Tables   \n",
      "1     ...       90032     West  FUR-FU-10001487        Furniture  Furnishings   \n",
      "2     ...       90032     West  OFF-AR-10002833  Office Supplies          Art   \n",
      "3     ...       90032     West  TEC-PH-10002275       Technology       Phones   \n",
      "4     ...       90032     West  OFF-AP-10002892  Office Supplies   Appliances   \n",
      "...   ...         ...      ...              ...              ...          ...   \n",
      "4279  ...       49505  Central  OFF-PA-10002195  Office Supplies        Paper   \n",
      "4280  ...       11561     East  OFF-LA-10003766  Office Supplies       Labels   \n",
      "4281  ...       11561     East  OFF-SU-10000898  Office Supplies     Supplies   \n",
      "4282  ...       30605    South  TEC-PH-10004006       Technology       Phones   \n",
      "4283  ...       92627     West  OFF-PA-10004041  Office Supplies        Paper   \n",
      "\n",
      "                                           Product Name     Sales  Quantity  \\\n",
      "0         Bretford CR4500 Series Slim Rectangular Table  957.5775         5   \n",
      "1     Eldon Expressions Wood and Plastic Desk Access...   48.8600         7   \n",
      "2                                            Newell 322    7.2800         4   \n",
      "3                        Mitel 5320 IP Phone VoIP phone  907.1520         6   \n",
      "4                      Belkin F5C206VTEL 6 Outlet Surge  114.9000         5   \n",
      "...                                                 ...       ...       ...   \n",
      "4279  RSVP Cards & Envelopes, Blank White, 8-1/2\" X ...   35.5600         7   \n",
      "4280                     Self-Adhesive Removable Labels   31.5000        10   \n",
      "4281  Acme Hot Forged Carbon Steel Scissors with Nic...   55.6000         4   \n",
      "4282                    Panasonic KX - TS880B Telephone  206.1000         5   \n",
      "4283  It's Hot Message Books with Stickers, 2 3/4\" x 5\"   29.6000         4   \n",
      "\n",
      "      Discount    Profit  \n",
      "0         0.45 -383.0310  \n",
      "1         0.00   14.1694  \n",
      "2         0.00    1.9656  \n",
      "3         0.20   90.7152  \n",
      "4         0.00   34.4700  \n",
      "...        ...       ...  \n",
      "4279      0.00   16.7132  \n",
      "4280      0.00   15.1200  \n",
      "4281      0.00   16.1240  \n",
      "4282      0.00   55.6470  \n",
      "4283      0.00   13.3200  \n",
      "\n",
      "[4284 rows x 21 columns]\n"
     ]
    }
   ],
   "source": [
    "df_unique = pd.read_sql_query('SELECT * FROM superstore WHERE \"Quantity\" > 3 ;',engine)\n",
    "print(df_unique)"
   ]
  },
  {
   "cell_type": "markdown",
   "id": "8d6fb49b-156b-4a2a-9d0c-b0b7bb1a11e3",
   "metadata": {},
   "source": [
    "## 10 “Second Class, Please” – Filter by Ship Mode\n",
    "Explanation:\n",
    "#### Displays all orders that were shipped using the Second Class shipping mode."
   ]
  },
  {
   "cell_type": "markdown",
   "id": "5307c5c9-0057-4c2d-962f-68cc8cbbfc23",
   "metadata": {},
   "source": [
    "### Query"
   ]
  },
  {
   "cell_type": "code",
   "execution_count": 29,
   "id": "8668e1a9-5406-4752-a19c-1f7073c82077",
   "metadata": {},
   "outputs": [
    {
     "name": "stdout",
     "output_type": "stream",
     "text": [
      "      Row ID        Order ID  Order Date   Ship Date     Ship Mode  \\\n",
      "0          1  CA-2016-152156  11-08-2016  11-11-2016  Second Class   \n",
      "1          2  CA-2016-152156  11-08-2016  11-11-2016  Second Class   \n",
      "2          3  CA-2016-138688  06-12-2016   6/16/2016  Second Class   \n",
      "3         18  CA-2014-167164   5/13/2014   5/15/2014  Second Class   \n",
      "4         19  CA-2014-143336   8/27/2014  09-01-2014  Second Class   \n",
      "...      ...             ...         ...         ...           ...   \n",
      "1940    9966  CA-2016-146374  12-05-2016  12-10-2016  Second Class   \n",
      "1941    9967  CA-2016-146374  12-05-2016  12-10-2016  Second Class   \n",
      "1942    9981  US-2015-151435  09-06-2015  09-09-2015  Second Class   \n",
      "1943    9990  CA-2014-110422   1/21/2014   1/23/2014  Second Class   \n",
      "1944    9994  CA-2017-119914  05-04-2017  05-09-2017  Second Class   \n",
      "\n",
      "     Customer ID       Customer Name    Segment        Country           City  \\\n",
      "0       CG-12520         Claire Gute   Consumer  United States      Henderson   \n",
      "1       CG-12520         Claire Gute   Consumer  United States      Henderson   \n",
      "2       DV-13045     Darrin Van Huff  Corporate  United States    Los Angeles   \n",
      "3       AG-10270     Alejandro Grove   Consumer  United States    West Jordan   \n",
      "4       ZD-21925  Zuschuss Donatelli   Consumer  United States  San Francisco   \n",
      "...          ...                 ...        ...            ...            ...   \n",
      "1940    HE-14800        Harold Engle  Corporate  United States         Newark   \n",
      "1941    HE-14800        Harold Engle  Corporate  United States         Newark   \n",
      "1942    SW-20455         Shaun Weien   Consumer  United States      Lafayette   \n",
      "1943    TB-21400    Tom Boeckenhauer   Consumer  United States          Miami   \n",
      "1944    CC-12220        Chris Cortes   Consumer  United States    Westminster   \n",
      "\n",
      "      ... Postal Code  Region       Product ID         Category Sub-Category  \\\n",
      "0     ...       42420   South  FUR-BO-10001798        Furniture    Bookcases   \n",
      "1     ...       42420   South  FUR-CH-10000454        Furniture       Chairs   \n",
      "2     ...       90036    West  OFF-LA-10000240  Office Supplies       Labels   \n",
      "3     ...       84084    West  OFF-ST-10000107  Office Supplies      Storage   \n",
      "4     ...       94109    West  OFF-AR-10003056  Office Supplies          Art   \n",
      "...   ...         ...     ...              ...              ...          ...   \n",
      "1940  ...       19711    East  OFF-PA-10000349  Office Supplies        Paper   \n",
      "1941  ...       19711    East  OFF-EN-10004483  Office Supplies    Envelopes   \n",
      "1942  ...       70506   South  FUR-TA-10001039        Furniture       Tables   \n",
      "1943  ...       33180   South  FUR-FU-10001889        Furniture  Furnishings   \n",
      "1944  ...       92683    West  OFF-AP-10002684  Office Supplies   Appliances   \n",
      "\n",
      "                                           Product Name    Sales  Quantity  \\\n",
      "0                     Bush Somerset Collection Bookcase  261.960         2   \n",
      "1     Hon Deluxe Fabric Upholstered Stacking Chairs,...  731.940         3   \n",
      "2     Self-Adhesive Address Labels for Typewriters b...   14.620         2   \n",
      "3                            Fellowes Super Stor/Drawer   55.500         2   \n",
      "4                                            Newell 341    8.560         2   \n",
      "...                                                 ...      ...       ...   \n",
      "1940                                  Easy-staple paper    4.980         1   \n",
      "1941         #10 White Business Envelopes,4 1/8 x 9 1/2  109.690         7   \n",
      "1942                         KI Adjustable-Height Table   85.980         1   \n",
      "1943                             Ultra Door Pull Handle   25.248         3   \n",
      "1944  Acco 7-Outlet Masterpiece Power Center, Wihtou...  243.160         2   \n",
      "\n",
      "      Discount    Profit  \n",
      "0          0.0   41.9136  \n",
      "1          0.0  219.5820  \n",
      "2          0.0    6.8714  \n",
      "3          0.0    9.9900  \n",
      "4          0.0    2.4824  \n",
      "...        ...       ...  \n",
      "1940       0.0    2.3406  \n",
      "1941       0.0   51.5543  \n",
      "1942       0.0   22.3548  \n",
      "1943       0.2    4.1028  \n",
      "1944       0.0   72.9480  \n",
      "\n",
      "[1945 rows x 21 columns]\n"
     ]
    }
   ],
   "source": [
    "df_unique = pd.read_sql_query(' SELECT * FROM superstore WHERE \"Ship Mode\" = \"Second Class\" ;',engine)\n",
    "print(df_unique)"
   ]
  },
  {
   "cell_type": "markdown",
   "id": "c970f22f-d247-4345-9936-c02ec58a10ca",
   "metadata": {},
   "source": [
    "# 🎯 Moderate Level — Filtering, Sorting, Aggregation\n",
    "\n"
   ]
  },
  {
   "cell_type": "markdown",
   "id": "8de4153b-2933-48f1-9247-377a75bd5c7e",
   "metadata": {},
   "source": [
    "## 1. Sort all orders by Sales in descending order"
   ]
  },
  {
   "cell_type": "markdown",
   "id": "6a41d8e4-fd15-496f-96d3-78ac910e4303",
   "metadata": {},
   "source": [
    "Explanation:\n",
    "#### This sorts all records in the superstore table by Sales, highest first."
   ]
  },
  {
   "cell_type": "markdown",
   "id": "8752469e-b6ed-49b1-bca0-34fbcc54c54e",
   "metadata": {},
   "source": [
    "### Query"
   ]
  },
  {
   "cell_type": "code",
   "execution_count": 4,
   "id": "7ed96766-2d84-4605-9306-f84b50b0b610",
   "metadata": {},
   "outputs": [
    {
     "name": "stdout",
     "output_type": "stream",
     "text": [
      "          Sales\n",
      "0     22638.480\n",
      "1     17499.950\n",
      "2     13999.960\n",
      "3     11199.968\n",
      "4     10499.970\n",
      "...         ...\n",
      "9989      0.876\n",
      "9990      0.852\n",
      "9991      0.836\n",
      "9992      0.556\n",
      "9993      0.444\n",
      "\n",
      "[9994 rows x 1 columns]\n"
     ]
    }
   ],
   "source": [
    "df_unique = pd.read_sql_query('SELECT \"Sales\" FROM superstore ORDER BY \"Sales\" DESC;',engine)\n",
    "print(df_unique)"
   ]
  },
  {
   "cell_type": "markdown",
   "id": "a0d759d2-ec43-4ecb-8a3e-5866ed2ced5a",
   "metadata": {},
   "source": [
    "## 2. Show the top 5 orders with the highest Profit\n",
    "Explanation:\n",
    "#### Orders are arranged by Profit in descending order, and only the top 5 rows are shown."
   ]
  },
  {
   "cell_type": "markdown",
   "id": "48150d7d-5972-49d3-bcc7-faf0a807acf4",
   "metadata": {},
   "source": [
    "### Query"
   ]
  },
  {
   "cell_type": "code",
   "execution_count": 5,
   "id": "0364622e-0697-4cbe-9eb5-53c3375128e9",
   "metadata": {},
   "outputs": [
    {
     "name": "stdout",
     "output_type": "stream",
     "text": [
      "       Sales\n",
      "0  22638.480\n",
      "1  17499.950\n",
      "2  13999.960\n",
      "3  11199.968\n",
      "4  10499.970\n"
     ]
    }
   ],
   "source": [
    "df_unique = pd.read_sql_query('SELECT \"Sales\" FROM superstore ORDER BY \"Sales\" DESC LIMIT 5 ;',engine)\n",
    "print(df_unique)"
   ]
  },
  {
   "cell_type": "markdown",
   "id": "8bcd4260-cbd1-4817-946c-76dc00f4106b",
   "metadata": {},
   "source": [
    "# 3. Find the total number of rows in the table\n",
    "Explanation:\n",
    "#### COUNT(*) counts all rows (orders) in the table."
   ]
  },
  {
   "cell_type": "code",
   "execution_count": 6,
   "id": "b6f4a19e-43b1-42d4-a950-24a568e716fa",
   "metadata": {},
   "outputs": [
    {
     "name": "stdout",
     "output_type": "stream",
     "text": [
      "   TotalRows\n",
      "0       9994\n"
     ]
    }
   ],
   "source": [
    "df_unique = pd.read_sql_query('SELECT COUNT(*) AS TotalRows FROM superstore;',engine)\n",
    "print(df_unique)"
   ]
  },
  {
   "cell_type": "markdown",
   "id": "7eb76493-bcb7-4fb1-9e72-a67f1a0911db",
   "metadata": {},
   "source": [
    "# 4.Calculate the total Sales for all orders\n",
    "Explanation:\n",
    "#### Adds up all values in the Sales column → total revenue."
   ]
  },
  {
   "cell_type": "code",
   "execution_count": 7,
   "id": "d6f9b656-ee30-4ea8-8d93-8b14bcf24cb2",
   "metadata": {},
   "outputs": [
    {
     "name": "stdout",
     "output_type": "stream",
     "text": [
      "     TotalSales\n",
      "0  2.297201e+06\n"
     ]
    }
   ],
   "source": [
    "df_unique = pd.read_sql_query(' SELECT SUM(Sales) AS TotalSales FROM superstore;',engine)\n",
    "print(df_unique)"
   ]
  },
  {
   "cell_type": "markdown",
   "id": "9b0f3a3a-bca6-4fba-a538-e46c7f0fdf54",
   "metadata": {},
   "source": [
    "# 5. Calculate the average Profit for each Category\n",
    "Explanation:\n",
    "#### Groups rows by Category and calculates average Profit for each."
   ]
  },
  {
   "cell_type": "code",
   "execution_count": 10,
   "id": "e80f8ae7-581a-4c60-9cf0-88343ebe7f9c",
   "metadata": {},
   "outputs": [
    {
     "name": "stdout",
     "output_type": "stream",
     "text": [
      "          Category  TotalProfit\n",
      "0        Furniture     8.699327\n",
      "1  Office Supplies    20.327050\n",
      "2       Technology    78.752002\n"
     ]
    }
   ],
   "source": [
    "df_unique = pd.read_sql_query(' SELECT \"Category\",AVG(Profit) AS TotalProfit FROM superstore GROUP BY \"Category\";',engine)\n",
    "print(df_unique)"
   ]
  },
  {
   "cell_type": "markdown",
   "id": "48ca23f0-ab6d-4efc-938f-dac460a84dcd",
   "metadata": {},
   "source": [
    "# 6. Find the total Sales for each Region\n",
    "Explanation:\n",
    "#### Shows region-wise total sales. Useful for business insights."
   ]
  },
  {
   "cell_type": "code",
   "execution_count": 13,
   "id": "2c8ee248-5f2c-442d-8061-28e1ed5c0bc9",
   "metadata": {},
   "outputs": [
    {
     "name": "stdout",
     "output_type": "stream",
     "text": [
      "    Region    TotalSale\n",
      "0     West  725457.8245\n",
      "1  Central  501239.8908\n",
      "2     East  678781.2400\n",
      "3    South  391721.9050\n"
     ]
    }
   ],
   "source": [
    "df_unique = pd.read_sql_query(' SELECT \"Region\" , SUM(Sales) AS TotalSale FROM superstore GROUP BY \"Region\" ORDER BY \"Sales\" ; ',engine) \n",
    "print(df_unique)"
   ]
  },
  {
   "cell_type": "markdown",
   "id": "857b7f82-a87b-4d12-bb65-d0df03c9e2d1",
   "metadata": {},
   "source": [
    "# 7. Show the number of orders placed by each Customer Name\n",
    "Explanation:\n",
    "#### Counts orders grouped by each customer. Sorted to see who placed the most orders."
   ]
  },
  {
   "cell_type": "code",
   "execution_count": 14,
   "id": "07eeaba7-d889-453f-8b49-d78a9d82f53c",
   "metadata": {},
   "outputs": [
    {
     "name": "stdout",
     "output_type": "stream",
     "text": [
      "       Customer Name  TotalSale\n",
      "0     Michael Nguyen   2477.946\n",
      "1      Toby Swindell    974.782\n",
      "2        Kean Nguyen   2171.962\n",
      "3        Ken Brennan    983.922\n",
      "4       Dorris liebe    755.602\n",
      "..               ...        ...\n",
      "788     Sean Braxton   8057.891\n",
      "789  Tracy Blumstein   4737.486\n",
      "790      John Murray   7625.076\n",
      "791   Grant Thornton   9351.212\n",
      "792     Tom Ashbrook  14595.620\n",
      "\n",
      "[793 rows x 2 columns]\n"
     ]
    }
   ],
   "source": [
    "df_unique = pd.read_sql_query('SELECT \"Customer Name\" , SUM(Sales) AS TotalSale FROM superstore GROUP BY \"Customer Name\" ORDER BY \"Sales\" ; ',engine)\n",
    "print(df_unique)"
   ]
  },
  {
   "cell_type": "markdown",
   "id": "5886a6cb-0a15-415e-b19f-2f913a0e6ca8",
   "metadata": {},
   "source": [
    "# 8. List all orders where Profit is negative\n",
    "Explanation:\n",
    "#### Filters rows where company had a loss (Profit < 0)"
   ]
  },
  {
   "cell_type": "code",
   "execution_count": 16,
   "id": "d5e70678-b953-4f6b-8dbe-89476e09a04f",
   "metadata": {},
   "outputs": [
    {
     "name": "stdout",
     "output_type": "stream",
     "text": [
      "      Row ID        Order ID  Order Date   Ship Date       Ship Mode  \\\n",
      "0          4  US-2015-108966  10-11-2015  10/18/2015  Standard Class   \n",
      "1         15  US-2015-118983  11/22/2015  11/26/2015  Standard Class   \n",
      "2         16  US-2015-118983  11/22/2015  11/26/2015  Standard Class   \n",
      "3         24  US-2017-156909   7/16/2017   7/18/2017    Second Class   \n",
      "4         28  US-2015-150630   9/17/2015   9/21/2015  Standard Class   \n",
      "...      ...             ...         ...         ...             ...   \n",
      "1866    9921  CA-2016-149272   3/15/2016   3/19/2016  Standard Class   \n",
      "1867    9922  CA-2014-111360  11/24/2014  11/30/2014  Standard Class   \n",
      "1868    9932  CA-2015-104948  11/13/2015  11/17/2015  Standard Class   \n",
      "1869    9938  CA-2016-164889  06-03-2016  06-06-2016    Second Class   \n",
      "1870    9963  CA-2015-168088   3/19/2015   3/22/2015     First Class   \n",
      "\n",
      "     Customer ID     Customer Name      Segment        Country  \\\n",
      "0       SO-20335    Sean O'Donnell     Consumer  United States   \n",
      "1       HP-14815     Harold Pawlan  Home Office  United States   \n",
      "2       HP-14815     Harold Pawlan  Home Office  United States   \n",
      "3       SF-20065   Sandra Flanagan     Consumer  United States   \n",
      "4       TB-21520   Tracy Blumstein     Consumer  United States   \n",
      "...          ...               ...          ...            ...   \n",
      "1866    MY-18295   Muhammed Yedwab    Corporate  United States   \n",
      "1867    AT-10435       Alyssa Tate  Home Office  United States   \n",
      "1868    KH-16510     Keith Herrera     Consumer  United States   \n",
      "1869    CP-12340    Christine Phan    Corporate  United States   \n",
      "1870    CM-12655  Corinna Mitchell  Home Office  United States   \n",
      "\n",
      "                 City  ... Postal Code   Region       Product ID  \\\n",
      "0     Fort Lauderdale  ...       33311    South  FUR-TA-10000577   \n",
      "1          Fort Worth  ...       76106  Central  OFF-AP-10002311   \n",
      "2          Fort Worth  ...       76106  Central  OFF-BI-10000756   \n",
      "3        Philadelphia  ...       19140     East  FUR-CH-10002774   \n",
      "4        Philadelphia  ...       19140     East  FUR-BO-10004834   \n",
      "...               ...  ...         ...      ...              ...   \n",
      "1866            Bryan  ...       77803  Central  OFF-BI-10004233   \n",
      "1867            Akron  ...       44312     East  OFF-BI-10003350   \n",
      "1868   San Bernardino  ...       92404     West  FUR-BO-10004357   \n",
      "1869      Los Angeles  ...       90049     West  FUR-TA-10001676   \n",
      "1870          Houston  ...       77041  Central  FUR-BO-10004218   \n",
      "\n",
      "             Category Sub-Category  \\\n",
      "0           Furniture       Tables   \n",
      "1     Office Supplies   Appliances   \n",
      "2     Office Supplies      Binders   \n",
      "3           Furniture       Chairs   \n",
      "4           Furniture    Bookcases   \n",
      "...               ...          ...   \n",
      "1866  Office Supplies      Binders   \n",
      "1867  Office Supplies      Binders   \n",
      "1868        Furniture    Bookcases   \n",
      "1869        Furniture       Tables   \n",
      "1870        Furniture    Bookcases   \n",
      "\n",
      "                                           Product Name      Sales  Quantity  \\\n",
      "0         Bretford CR4500 Series Slim Rectangular Table   957.5775         5   \n",
      "1     Holmes Replacement Filter for HEPA Air Cleaner...    68.8100         5   \n",
      "2      Storex DuraTech Recycled Plastic Frosted Binders     2.5440         3   \n",
      "3                    Global Deluxe Stacking Chair, Gray    71.3720         2   \n",
      "4     Riverside Palais Royal Lawyers Bookcase, Royal...  3083.4300         7   \n",
      "...                                                 ...        ...       ...   \n",
      "1866  GBC Pre-Punched Binding Paper, Plastic, White,...    22.3860         7   \n",
      "1867                    Acco Expandable Hanging Binders     5.7420         3   \n",
      "1868     O'Sullivan Living Dimensions 3-Shelf Bookcases   683.3320         4   \n",
      "1869       Hon 61000 Series Interactive Training Tables    71.0880         2   \n",
      "1870  Bush Heritage Pine Collection 5-Shelf Bookcase...   383.4656         4   \n",
      "\n",
      "      Discount     Profit  \n",
      "0         0.45  -383.0310  \n",
      "1         0.80  -123.8580  \n",
      "2         0.80    -3.8160  \n",
      "3         0.30    -1.0196  \n",
      "4         0.50 -1665.0522  \n",
      "...        ...        ...  \n",
      "1866      0.80   -35.8176  \n",
      "1867      0.70    -4.5936  \n",
      "1868      0.15   -40.1960  \n",
      "1869      0.20    -1.7772  \n",
      "1870      0.32   -67.6704  \n",
      "\n",
      "[1871 rows x 21 columns]\n"
     ]
    }
   ],
   "source": [
    "df_unique = pd.read_sql_query('SELECT * FROM superstore WHERE Profit < 0 ;',engine)\n",
    "print(df_unique)"
   ]
  },
  {
   "cell_type": "markdown",
   "id": "c4e78e01-2bd3-4396-bc06-9d5ad8210dbf",
   "metadata": {},
   "source": [
    "# 9.Find the highest Sales value in the table\n",
    "Explanation:\n",
    "#### MAX(Sales) finds the largest sales amount in the dataset."
   ]
  },
  {
   "cell_type": "code",
   "execution_count": 17,
   "id": "fdbea8c7-736c-41d2-8f31-6eceb7807831",
   "metadata": {},
   "outputs": [
    {
     "name": "stdout",
     "output_type": "stream",
     "text": [
      "   HighSale\n",
      "0  22638.48\n"
     ]
    }
   ],
   "source": [
    "df_unique = pd.read_sql_query(' SELECT MAX(Sales) AS HighSale FROM superstore ;',engine)\n",
    "print(df_unique)"
   ]
  },
  {
   "cell_type": "markdown",
   "id": "6177eeab-3bd9-4694-a903-b7ee93ac3e28",
   "metadata": {},
   "source": [
    "# 10.Find the lowest Profit value in the table\n",
    "Explanation:\n",
    "#### MIN(Profit) returns the smallest profit value, i.e., maximum loss"
   ]
  },
  {
   "cell_type": "code",
   "execution_count": 18,
   "id": "87d9aaa4-f50f-40c3-96ff-deab58316272",
   "metadata": {},
   "outputs": [
    {
     "name": "stdout",
     "output_type": "stream",
     "text": [
      "   LowSale\n",
      "0    0.444\n"
     ]
    }
   ],
   "source": [
    "df_unique = pd.read_sql_query(' SELECT MIN(Sales) AS LowSale FROM superstore ;',engine)\n",
    "print(df_unique)"
   ]
  },
  {
   "cell_type": "markdown",
   "id": "9ab27be6-7a75-4720-ac42-fca1810bf051",
   "metadata": {},
   "source": [
    "# 🎯 Advance Level — Grouping & Conditions"
   ]
  },
  {
   "cell_type": "markdown",
   "id": "9f301683-5a4d-4019-abae-511c9f8dc97e",
   "metadata": {},
   "source": [
    "## 1. Find the total sales per Ship Mode\n",
    "Explanation:\n",
    "#### Groups all orders by Ship Mode and calculates the total Sales for each shipping method"
   ]
  },
  {
   "cell_type": "code",
   "execution_count": 20,
   "id": "ca79d80a-3225-48ee-851e-b81488a3c4e0",
   "metadata": {},
   "outputs": [
    {
     "name": "stdout",
     "output_type": "stream",
     "text": [
      "        Ship Mode     TotalSale\n",
      "0        Same Day  1.283631e+05\n",
      "1    Second Class  4.591936e+05\n",
      "2  Standard Class  1.358216e+06\n",
      "3     First Class  3.514284e+05\n"
     ]
    }
   ],
   "source": [
    "df_unique = pd.read_sql_query('SELECT \"Ship Mode\" , SUM(Sales) AS TotalSale FROM superstore GROUP BY \"Ship Mode\" ORDER BY \"Sales\";',engine)\n",
    "print(df_unique)"
   ]
  },
  {
   "cell_type": "markdown",
   "id": "da7f23b4-c6c6-49f0-9561-06c4b830c426",
   "metadata": {},
   "source": [
    "# 2. List customers who have placed more than 5 orders\n",
    "Explanation:\n",
    "#### Counts the total number of orders per customer and filters those who have more than 5."
   ]
  },
  {
   "cell_type": "code",
   "execution_count": 27,
   "id": "83ab90d0-5bd4-4948-b94e-51ef4b50dfc5",
   "metadata": {},
   "outputs": [
    {
     "name": "stdout",
     "output_type": "stream",
     "text": [
      "          Customer Name  TotalOrders\n",
      "0         William Brown           37\n",
      "1            Paul Prost           34\n",
      "2          Matt Abelman           34\n",
      "3              John Lee           34\n",
      "4           Seth Vernon           32\n",
      "..                  ...          ...\n",
      "704        Brad Norvell            6\n",
      "705  Benjamin Patterson            6\n",
      "706           Bart Folk            6\n",
      "707          Anna Chung            6\n",
      "708       Aaron Bergman            6\n",
      "\n",
      "[709 rows x 2 columns]\n"
     ]
    }
   ],
   "source": [
    "df_unique = pd.read_sql_query('SELECT \"Customer Name\" , COUNT(\"Order ID\") AS TotalOrders FROM superstore GROUP BY \"Customer Name\" HAVING COUNT(\"Order ID\") > 5 ORDER BY TotalOrders DESC;',engine)\n",
    "print(df_unique)"
   ]
  },
  {
   "cell_type": "markdown",
   "id": "e89c7764-d09d-40dc-8be4-7f1442bdbe0f",
   "metadata": {},
   "source": [
    "# 3. Find the total profit made in each Region for the year 2019\n",
    "Explanation:\n",
    "#### Filters records for 2019, groups them by Region, and sums the Profit for each."
   ]
  },
  {
   "cell_type": "code",
   "execution_count": 33,
   "id": "a3d24771-85ac-4b78-bb00-30d1f909e4d0",
   "metadata": {},
   "outputs": [
    {
     "name": "stdout",
     "output_type": "stream",
     "text": [
      "Empty DataFrame\n",
      "Columns: [Region, TotalProfit]\n",
      "Index: []\n"
     ]
    }
   ],
   "source": [
    "query = \"\"\"\n",
    "SELECT \n",
    "    \"Region\",\n",
    "    SUM(\"Profit\") AS TotalProfit\n",
    "FROM superstore\n",
    "WHERE \n",
    "    (\n",
    "        -- Case 1: format like dd/mm/yyyy (dayfirst)\n",
    "        LENGTH(\"Order Date\") = 10\n",
    "        AND SUBSTR(\"Order Date\", 7, 4) = '2019'\n",
    "    )\n",
    "    OR\n",
    "    (\n",
    "        -- Case 2: format like yyyy-dd-mm\n",
    "        LENGTH(\"Order Date\") = 10\n",
    "        AND SUBSTR(\"Order Date\", 1, 4) = '2019'\n",
    "    )\n",
    "GROUP BY \"Region\";\n",
    "\"\"\"\n",
    "df_unique = pd.read_sql_query(query, engine)\n",
    "print(df_unique)"
   ]
  },
  {
   "cell_type": "markdown",
   "id": "2146f4f2-1cbd-46ab-a249-7721b39845f8",
   "metadata": {},
   "source": [
    "# 4. Show the average quantity of products sold per Category\n",
    "Explanation:\n",
    "#### Groups orders by Category and calculates the average Quantity sold.\n"
   ]
  },
  {
   "cell_type": "code",
   "execution_count": 35,
   "id": "e5c3b9e0-c3f4-4469-9c6b-38f0840db588",
   "metadata": {},
   "outputs": [
    {
     "name": "stdout",
     "output_type": "stream",
     "text": [
      "          Category  AverageQuantity\n",
      "0  Office Supplies         3.801195\n",
      "1        Furniture         3.785007\n",
      "2       Technology         3.756903\n"
     ]
    }
   ],
   "source": [
    "df_unique = pd.read_sql_query('SELECT \"Category\" , AVG(Quantity) AS AverageQuantity FROM superstore GROUP BY \"Category\" ORDER BY \"AverageQuantity\" DESC;',engine)\n",
    "print(df_unique)"
   ]
  },
  {
   "cell_type": "markdown",
   "id": "fa22094c-3ef1-4f7a-9028-54a9bd7033f6",
   "metadata": {},
   "source": [
    "# 5. List all products with sales greater than the average sales\n",
    "Explanation:\n",
    "#### Finds the overall average Sales and returns products whose Sales exceed this value."
   ]
  },
  {
   "cell_type": "code",
   "execution_count": 38,
   "id": "a3e757a5-c33a-4a25-8c3d-814461cd40cb",
   "metadata": {},
   "outputs": [
    {
     "name": "stdout",
     "output_type": "stream",
     "text": [
      "                                           Product Name  TotalSales\n",
      "0                 Canon imageCLASS 2200 Advanced Copier   61599.824\n",
      "1     Fellowes PB500 Electric Punch Plastic Comb Bin...   27453.384\n",
      "2     Cisco TelePresence System EX90 Videoconferenci...   22638.480\n",
      "3          HON 5400 Series Task Chairs for Big and Tall   21870.576\n",
      "4            GBC DocuBind TL300 Electric Binding System   19823.479\n",
      "...                                                 ...         ...\n",
      "1040  Panasonic KP-4ABK Battery-Operated Pencil Shar...     234.240\n",
      "1041                      Maxell 74 Minute CDR, 10/Pack     232.764\n",
      "1042                                Petty Cash Envelope     231.856\n",
      "1043  Tenex Personal Self-Stacking Standard File Box...     229.976\n",
      "1044  Black & Decker Filter for Double Action Dustbu...     229.886\n",
      "\n",
      "[1045 rows x 2 columns]\n"
     ]
    }
   ],
   "source": [
    "df_unique = pd.read_sql_query('SELECT \"Product Name\" , SUM(Sales) AS TotalSales FROM superstore GROUP BY \"Product Name\" HAVING SUM(Sales) > (SELECT AVG(\"Sales\") FROM superstore) ORDER BY TotalSales DESC;',engine)\n",
    "print(df_unique)"
   ]
  },
  {
   "cell_type": "markdown",
   "id": "39f4b30f-146d-47b6-9e61-ff0219307307",
   "metadata": {},
   "source": [
    "# 6. Find the top 3 customers by total sales\n",
    "Explanation:\n",
    "#### Groups orders by Customer Name, sums their Sales, and shows the top 3 highest spenders."
   ]
  },
  {
   "cell_type": "code",
   "execution_count": 46,
   "id": "dd5016fa-eefc-4bc1-997d-39a5b06aa55a",
   "metadata": {},
   "outputs": [
    {
     "name": "stdout",
     "output_type": "stream",
     "text": [
      "  Customer Name  TotalSales\n",
      "0   Sean Miller   25043.050\n",
      "1  Tamara Chand   19052.218\n",
      "2  Raymond Buch   15117.339\n"
     ]
    }
   ],
   "source": [
    "df_unique = pd.read_sql_query('''\n",
    "    SELECT \"Customer Name\", \n",
    "           SUM(\"Sales\") AS TotalSales\n",
    "    FROM superstore\n",
    "    GROUP BY \"Customer Name\"\n",
    "    ORDER BY TotalSales DESC\n",
    "    LIMIT 3;\n",
    "''', engine)\n",
    "print(df_unique)"
   ]
  },
  {
   "cell_type": "markdown",
   "id": "1d2fc60e-5e9a-4c9e-809c-8eec4dfea8d6",
   "metadata": {},
   "source": [
    "# 7. Count the number of distinct products sold\n",
    "Explanation:\n",
    "#### Counts the total number of unique products purchased from the dataset."
   ]
  },
  {
   "cell_type": "code",
   "execution_count": 52,
   "id": "eaaa2b65-c1a2-453a-8d18-f2a5835c6471",
   "metadata": {},
   "outputs": [
    {
     "name": "stdout",
     "output_type": "stream",
     "text": [
      "   DistinctProductSold\n",
      "0                 1850\n"
     ]
    }
   ],
   "source": [
    "df_unique = pd.read_sql_query(''' SELECT COUNT(DISTINCT \"Product Name\") AS DistinctProductSold FROM superstore;\n",
    "''',engine)\n",
    "print(df_unique)"
   ]
  },
  {
   "cell_type": "markdown",
   "id": "9555a652-ef8a-4681-82e2-608c96fcb1d1",
   "metadata": {},
   "source": [
    "# 8. Show all sub-categories with total profit less than 0\n",
    "Explanation:\n",
    "#### Groups orders by Sub-Category and returns only those with negative Profit."
   ]
  },
  {
   "cell_type": "code",
   "execution_count": 60,
   "id": "486b856b-09ce-4b59-a7ac-38d61fcbc5bd",
   "metadata": {},
   "outputs": [
    {
     "name": "stdout",
     "output_type": "stream",
     "text": [
      "Empty DataFrame\n",
      "Columns: [\"Sub Category\", TotalProfit]\n",
      "Index: []\n"
     ]
    }
   ],
   "source": [
    "df_unique = pd.read_sql_query('SELECT \"Sub Category\" , SUM(\"Profit\") AS TotalProfit FROM superstore GROUP BY \"Sub Category\" HAVING SUM(\"Profit\") < 0  ORDER BY TotalProfit',engine)\n",
    "print(df_unique)"
   ]
  },
  {
   "cell_type": "markdown",
   "id": "8eb73b1d-ba8e-428d-8238-598d4755afee",
   "metadata": {},
   "source": [
    "# 9. Display the total sales and profit for each Category sorted by profit descending\n",
    "Explanation:\n",
    "#### Groups data by Category, calculates total Sales and Profit, and sorts results by Profit (highest first)."
   ]
  },
  {
   "cell_type": "code",
   "execution_count": 68,
   "id": "77bf00fd-2ff5-414a-89ca-a8b6847cbf0c",
   "metadata": {},
   "outputs": [
    {
     "name": "stdout",
     "output_type": "stream",
     "text": [
      "          Category    TotalSale  TotalProfit\n",
      "0       Technology  836154.0330  145454.9481\n",
      "1  Office Supplies  719047.0320  122490.8008\n",
      "2        Furniture  741999.7953   18451.2728\n"
     ]
    }
   ],
   "source": [
    "df_unique = pd.read_sql_query('SELECT \"Category\",SUM(\"Sales\") AS TotalSale,SUM(\"Profit\") AS TotalProfit FROM superstore GROUP BY \"Category\" ORDER BY TotalProfit DESC; ',engine)\n",
    "print(df_unique)"
   ]
  },
  {
   "cell_type": "markdown",
   "id": "011d6161-abde-45f5-94af-732eca12f18e",
   "metadata": {},
   "source": [
    "# 10. Find the month with the highest total sales\n",
    "Explanation:\n",
    "#### Extracts the month from Order Date, sums Sales per month, and returns the month with the highest total."
   ]
  },
  {
   "cell_type": "code",
   "execution_count": 69,
   "id": "e8777144-8e3d-446a-abcc-29bd4fa33a00",
   "metadata": {},
   "outputs": [
    {
     "name": "stdout",
     "output_type": "stream",
     "text": [
      "  Month    TotalSales\n",
      "0  None  2.297201e+06\n"
     ]
    }
   ],
   "source": [
    "df_unique = pd.read_sql_query('''\n",
    "    SELECT \n",
    "        strftime('%Y-%m', \"Order Date\") AS Month, \n",
    "        SUM(\"Sales\") AS TotalSales\n",
    "    FROM superstore\n",
    "    GROUP BY Month\n",
    "    ORDER BY TotalSales DESC\n",
    "    LIMIT 1;\n",
    "''', engine)\n",
    "\n",
    "print(df_unique)"
   ]
  },
  {
   "cell_type": "code",
   "execution_count": null,
   "id": "e4b760f9-e31c-47a5-95fa-b1a0149b3214",
   "metadata": {},
   "outputs": [],
   "source": []
  }
 ],
 "metadata": {
  "kernelspec": {
   "display_name": "Python 3 (ipykernel)",
   "language": "python",
   "name": "python3"
  },
  "language_info": {
   "codemirror_mode": {
    "name": "ipython",
    "version": 3
   },
   "file_extension": ".py",
   "mimetype": "text/x-python",
   "name": "python",
   "nbconvert_exporter": "python",
   "pygments_lexer": "ipython3",
   "version": "3.12.4"
  }
 },
 "nbformat": 4,
 "nbformat_minor": 5
}
